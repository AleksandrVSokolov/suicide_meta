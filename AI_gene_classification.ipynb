{
 "cells": [
  {
   "cell_type": "markdown",
   "id": "09bce9be",
   "metadata": {},
   "source": [
    "### AI-based classification of identified genes"
   ]
  },
  {
   "cell_type": "markdown",
   "id": "3016906e",
   "metadata": {},
   "source": [
    "#### .ENV setup (run in the terminal)"
   ]
  },
  {
   "cell_type": "markdown",
   "id": "34d0f37b",
   "metadata": {},
   "source": [
    "\n",
    "\n",
    "cp /home/aleksandr/Desktop/WORK/biotech_data_project/.env /home/aleksandr/Desktop/WORK/OLINK_suicide_PSY_project/.env"
   ]
  },
  {
   "cell_type": "markdown",
   "id": "a50a7c22",
   "metadata": {},
   "source": [
    "#### Module import"
   ]
  },
  {
   "cell_type": "code",
   "execution_count": 18,
   "id": "cec6db35",
   "metadata": {},
   "outputs": [],
   "source": [
    "import pickle\n",
    "import json\n",
    "import re\n",
    "import pandas as pd\n",
    "import time\n",
    "import os\n",
    "\n",
    "from multiprocessing import Pool\n",
    "from copy import deepcopy\n",
    "\n",
    "import hashlib\n",
    "import uuid\n",
    "from datetime import datetime\n",
    "import mysql.connector\n",
    "\n",
    "# OpenAI stuff\n",
    "import openai\n",
    "from openai import OpenAI\n",
    "from dotenv import load_dotenv\n",
    "load_dotenv()\n",
    "\n",
    "\n",
    "OPENAI_API_KEY = os.getenv(\"OPENAI_API_KEY\")\n",
    "\n",
    "# SQL stuff\n",
    "SQL_USER= os.getenv(\"SQL_USER\")\n",
    "SQL_PWD = os.getenv(\"SQL_PWD\")"
   ]
  },
  {
   "cell_type": "markdown",
   "id": "43d4719a",
   "metadata": {},
   "source": [
    "#### Simple test"
   ]
  },
  {
   "cell_type": "code",
   "execution_count": 54,
   "id": "f0847687",
   "metadata": {},
   "outputs": [],
   "source": [
    "def response_web_search_OAI(query: str, developer_instructions: str):\n",
    "\n",
    "    # Not efficient and performs much worse than ChatGPT\n",
    "    # Heavy hallucinations\n",
    "    client = OpenAI(api_key=OPENAI_API_KEY)\n",
    "\n",
    "    # \"gpt-4o-search-preview\" is optimal model\n",
    "    # \"gpt-4o-mini-search-preview\" fails to format output sometimes\n",
    "\n",
    "    #prompt = developer_instructions + \"\\n\" + query\n",
    "\n",
    "    response = client.responses.create(\n",
    "        model=\"gpt-5\",\n",
    "        reasoning={\"effort\": \"low\"},\n",
    "        tools=[{\n",
    "        \"type\": \"web_search_preview\",\n",
    "        \"search_context_size\": \"high\"}],\n",
    "\n",
    "        instructions = developer_instructions,\n",
    "\n",
    "        input=query\n",
    "    )\n",
    "    return response"
   ]
  },
  {
   "cell_type": "code",
   "execution_count": null,
   "id": "faa83cf0",
   "metadata": {},
   "outputs": [],
   "source": [
    "developer_instructions = \"\"\"\n",
    "You are given a human gene name presented as a gene symbol. You need to do the following:\n",
    "\n",
    "1. Classify this gene using only one the most appropriate class (separated by ;):\n",
    "\n",
    "'Receptor (non-immune)';\n",
    "'Immune receptor';\n",
    "'Ion channel/Transporter';\n",
    "'Cell-Surface Ligand';\n",
    "'Extracellular or Secreted molecule';\n",
    "'Enzyme (non-kinase)';\n",
    "'Transcription factor';\n",
    "'Kinase';\n",
    "'Structural protein';\n",
    "'Non-coding RNA';\n",
    "'Pseudogene'\n",
    "\n",
    "2. You must only use scientific literature (papers) or scientific databases (such as UniProt, GeneCards, etc.) to perform classification\n",
    "\n",
    "3. Give only one the most suitable class for a gene\n",
    "\n",
    "4. Your output must be first an explanation of around 100 words then keyword \"RESPONSE_CLASS\" followed by the selected class name (spelled exactly as in the instruction 1.)\n",
    "\n",
    "\"\"\""
   ]
  },
  {
   "cell_type": "code",
   "execution_count": 89,
   "id": "3d3e8abd",
   "metadata": {},
   "outputs": [],
   "source": [
    "test_response = response_web_search_OAI(query=\"TLR2\",\n",
    "                                        developer_instructions=developer_instructions)\n",
    "response_text = test_response.output_text"
   ]
  },
  {
   "cell_type": "code",
   "execution_count": 90,
   "id": "326911c2",
   "metadata": {},
   "outputs": [
    {
     "data": {
      "text/plain": [
       "'TLR2 (Toll-like receptor 2) is a type I transmembrane pattern-recognition receptor expressed primarily on innate immune cells such as macrophages, dendritic cells, and neutrophils. It recognizes conserved microbial components—especially triacyl and diacyl lipopeptides from bacteria and certain fungal and parasitic products—often as a heterodimer with TLR1 or TLR6. Ligand engagement triggers recruitment of adaptor proteins (notably MyD88), leading to activation of NF-κB and MAPK pathways and induction of proinflammatory cytokines that orchestrate innate and subsequent adaptive immune responses. Functionally and structurally, TLR2 is best classified as an immune cell-surface receptor rather than an enzyme, kinase, transcription factor, or transporter.\\n\\nRESPONSE_CLASS Immune receptor'"
      ]
     },
     "execution_count": 90,
     "metadata": {},
     "output_type": "execute_result"
    }
   ],
   "source": [
    "response_text"
   ]
  },
  {
   "cell_type": "code",
   "execution_count": 91,
   "id": "e109d423",
   "metadata": {},
   "outputs": [
    {
     "data": {
      "text/plain": [
       "'Immune receptor'"
      ]
     },
     "execution_count": 91,
     "metadata": {},
     "output_type": "execute_result"
    }
   ],
   "source": [
    "response_class = response_text.split(\"RESPONSE_CLASS\")[1]\n",
    "response_class = response_class.strip()\n",
    "response_class"
   ]
  },
  {
   "cell_type": "markdown",
   "id": "2bc1f7d9",
   "metadata": {},
   "source": [
    "#### Make calls connected to SQL to index responses and not reuse tokens"
   ]
  },
  {
   "cell_type": "code",
   "execution_count": 68,
   "id": "27a01590",
   "metadata": {},
   "outputs": [],
   "source": [
    "def uuid_from_string(input_string):\n",
    "    return str(uuid.uuid5(uuid.NAMESPACE_DNS, input_string))\n",
    "\n",
    "def sql_escape(value):\n",
    "    return str(value).replace(\"'\", \"''\").replace('\\\\', '\\\\\\\\')"
   ]
  },
  {
   "cell_type": "code",
   "execution_count": 92,
   "id": "7e36458e",
   "metadata": {},
   "outputs": [],
   "source": [
    "\n",
    "def classify_gene_symbol(input_dict):\n",
    "        \n",
    "    gene_symbol = input_dict[\"gene_symbol\"]\n",
    "    developer_instructions = input_dict[\"developer_instructions\"]\n",
    "    db_name = input_dict[\"db_name\"]\n",
    "    db_table_name = input_dict[\"db_table_name\"]\n",
    "    \n",
    "    # Creating dp if not exitsts\n",
    "    # Create SQL database if does not exist\n",
    "    try:\n",
    "        connection = mysql.connector.connect(\n",
    "        host=\"localhost\",\n",
    "        user=SQL_USER,\n",
    "        passwd=SQL_PWD\n",
    "        )\n",
    "\n",
    "        cursor = connection.cursor()\n",
    "        cursor.execute(f\"CREATE DATABASE IF NOT EXISTS {db_name}\")\n",
    "\n",
    "    except Exception as e:\n",
    "        print(f\"[ERROR at classify_gene_symbol at creating database!]: {e}\")\n",
    "\n",
    "    finally:\n",
    "        cursor.close()\n",
    "        connection.close()\n",
    "\n",
    "    # Create SQL table if does not exist\n",
    "    try:\n",
    "        connection = mysql.connector.connect(\n",
    "        host=\"localhost\",\n",
    "        user=SQL_USER,\n",
    "        passwd=SQL_PWD\n",
    "        )\n",
    "\n",
    "        cursor = connection.cursor()\n",
    "        cursor.execute(f\"USE {db_name}\")\n",
    "\n",
    "        sql = f\"\"\"CREATE TABLE IF NOT EXISTS {db_table_name} (\n",
    "                    id INT AUTO_INCREMENT PRIMARY KEY,\n",
    "                    gene_symbol VARCHAR(200),\n",
    "                    uuid_str VARCHAR(50),\n",
    "                    format_correctness VARCHAR(50),\n",
    "                    explanation MEDIUMTEXT,\n",
    "                    selected_class VARCHAR(250))\"\"\"\n",
    "        \n",
    "        cursor.execute(sql)\n",
    "\n",
    "    except Exception as e:\n",
    "        print(f\"[ERROR at classify_gene_symbol at creating table!]: {e}\")\n",
    "\n",
    "    finally:\n",
    "        cursor.close()\n",
    "        connection.close()\n",
    "\n",
    "\n",
    "    # Now we need to see if requested gene symbol has been already classified\n",
    "    current_uuid = uuid_from_string(gene_symbol)\n",
    "\n",
    "    try:\n",
    "        connection = mysql.connector.connect(\n",
    "        host=\"localhost\",\n",
    "        user=SQL_USER,\n",
    "        passwd=SQL_PWD\n",
    "        )\n",
    "\n",
    "        cursor = connection.cursor()\n",
    "        cursor.execute(f\"USE {db_name}\")\n",
    "\n",
    "        SQL_command_treatment_search = f\"\"\" SELECT * FROM {db_table_name} WHERE\n",
    "        uuid_str = '{current_uuid}'\n",
    "        \"\"\"\n",
    "        cursor.execute(SQL_command_treatment_search)\n",
    "        SQL_rows = cursor.fetchall()\n",
    "\n",
    "    except Exception as e:\n",
    "        print(f\"[ERROR at classify_gene_symbol at database search]: gene symbol '{gene_symbol}' - {e}\")\n",
    "        SQL_rows = None\n",
    "\n",
    "    finally:\n",
    "        cursor.close()\n",
    "        connection.close()\n",
    "\n",
    "    # Loading results (ID, gene_symbol, uuid_str, format_correctness, selected_class)\n",
    "    try:\n",
    "\n",
    "        if SQL_rows is not None and len(SQL_rows) > 0:\n",
    "            \n",
    "            # MySQL upload\n",
    "            first_record = SQL_rows[0]\n",
    "            gene_class = first_record[4]\n",
    "\n",
    "            response_out = {\n",
    "                \"gene_symbol\":first_record[1],\n",
    "                \"uuid_str\":first_record[2],\n",
    "                \"format_correctness\":first_record[3],\n",
    "                \"explanation\":first_record[4],\n",
    "                \"gene_class\":first_record[5]\n",
    "                }\n",
    "            return response_out\n",
    "    \n",
    "    except Exception as e:\n",
    "        print(f\"[ERROR at classify_gene_symbol at loading existing SQL]: gene symbol '{gene_symbol}' - {e}\")\n",
    "\n",
    "\n",
    "    # IF WE ARE HERE -> GENE IS NOT IN SQL -> NEED TO GO TO AI\n",
    "    try:\n",
    "        classification = response_web_search_OAI(query=gene_symbol, developer_instructions=developer_instructions)\n",
    "    except:\n",
    "        response_out = {\n",
    "        \"gene_symbol\": gene_symbol,\n",
    "        \"uuid_str\": current_uuid,\n",
    "        \"format_correctness\": \"FAILED\",\n",
    "        \"explanation\": None,\n",
    "        \"gene_class\":None\n",
    "        }\n",
    "        return response_out\n",
    "\n",
    "    suggested_classes = [\n",
    "    'Receptor (non-immune)',\n",
    "    'Immune receptor',\n",
    "    'Ion channel/Transporter',\n",
    "    'Cell-Surface Ligand',\n",
    "    'Extracellular or Secreted molecule',\n",
    "    'Enzyme (non-kinase)',\n",
    "    'Transcription factor',\n",
    "    'Kinase',\n",
    "    'Structural protein',\n",
    "    'Non-coding RNA',\n",
    "    'Pseudogene'\n",
    "    ]\n",
    "\n",
    "    response_text = classification.output_text\n",
    "    response_text = sql_escape(response_text)\n",
    "    response_class = response_text.split(\"RESPONSE_CLASS\")[1]\n",
    "    response_class = response_class.strip()\n",
    "    response_class\n",
    "\n",
    "    if response_class not in response_class:\n",
    "        format_correctness = \"NEED EVALUATION\"\n",
    "    else:\n",
    "        format_correctness = \"CORRECT\"\n",
    "\n",
    "    \n",
    "    # Save response\n",
    "        # Saving record in MySQL database\n",
    "    try:\n",
    "        connection = mysql.connector.connect(\n",
    "        host=\"localhost\",\n",
    "        user=SQL_USER,\n",
    "        passwd=SQL_PWD\n",
    "        )\n",
    "\n",
    "        cursor = connection.cursor()\n",
    "        cursor.execute(f\"USE {db_name}\")\n",
    "\n",
    "        SQL_command = f\"\"\"INSERT INTO {db_table_name} (gene_symbol, uuid_str, format_correctness, explanation, selected_class) \n",
    "                VALUES ('{gene_symbol}', '{current_uuid}', '{format_correctness}', '{response_text}', '{response_class}')\"\"\"\n",
    "        cursor.execute(SQL_command)\n",
    "        connection.commit()\n",
    "\n",
    "    except Exception as e:\n",
    "        print(f\"[ERROR at classify_gene_symbol at connection after search]: gene '{gene_symbol}' - {e}\")\n",
    "\n",
    "    finally:\n",
    "        cursor.close()\n",
    "        connection.close()\n",
    "\n",
    "    \n",
    "        response_out = {\n",
    "            \"gene_symbol\":gene_symbol,\n",
    "            \"uuid_str\":current_uuid,\n",
    "            \"format_correctness\":format_correctness,\n",
    "            \"explanation\":response_text,\n",
    "            \"gene_class\":response_class\n",
    "            }\n",
    "        return response_out\n"
   ]
  },
  {
   "cell_type": "code",
   "execution_count": 63,
   "id": "173459a0",
   "metadata": {},
   "outputs": [
    {
     "data": {
      "text/plain": [
       "{'gene_symbol': 'RP11-981P6.1',\n",
       " 'uuid_str': '12a61315-4f0c-5a01-b9e2-aa4ce2990c46',\n",
       " 'format_correctness': 'CORRECT',\n",
       " 'explanation': 'RP11-981P6.1 is an RP11-designated transcript derived from a genomic clone locus and corresponds to Ensembl gene ENSG00000258302. This locus is annotated as a long non-coding RNA (lncRNA): GeneCards indexes ENSG00000258302 within its ncRNA (GeneCaRNA) compendium and shows no RefSeq protein-coding entry, consistent with a noncoding biotype. Independent commercial assays also label RP11-981P6.1 explicitly as “lncRNA,” providing the Ensembl ID and transcript ENST00000552778, further supporting that it is not protein-coding. Together, these database annotations indicate RP11-981P6.1 is best classified as a non-coding RNA gene. ([genecards.org](https://www.genecards.org/cgi-bin/carddisp.pl?gene=ENSG00000258302&utm_source=openai), [commerce.bio-rad.com](https://commerce.bio-rad.com/en-us/prime-pcr-assays/assay/qhsaled0105820-primepcr-sybr-green-assay-rp11-981p61-human?utm_source=openai))\\n\\nRESPONSE_CLASS Non-coding RNA',\n",
       " 'gene_class': 'Non-coding RNA'}"
      ]
     },
     "execution_count": 63,
     "metadata": {},
     "output_type": "execute_result"
    }
   ],
   "source": [
    "# USE gene_name_classification;\n",
    "# SELECT * from gene_name_gpt5;\n",
    "\n",
    "input_dict = {\n",
    "    \"gene_symbol\":\"RP11-981P6.1\",\n",
    "    \"developer_instructions\":developer_instructions,\n",
    "    \"db_name\":\"gene_name_classification\",\n",
    "    \"db_table_name\":\"gene_name_gpt5\"\n",
    "}\n",
    "classify_gene_symbol(input_dict)"
   ]
  },
  {
   "cell_type": "markdown",
   "id": "3c0b1ae6",
   "metadata": {},
   "source": [
    "#### Data import"
   ]
  },
  {
   "cell_type": "code",
   "execution_count": 81,
   "id": "992c07cf",
   "metadata": {},
   "outputs": [],
   "source": [
    "\n",
    "def read_txt_to_list(file_path):\n",
    "    \"\"\"\n",
    "    Reads txt file and saves it in a list line-by-line\n",
    "    \"\"\"\n",
    "    text = open(file_path, \"r\")\n",
    "    text = text.read()\n",
    "    text = str.split(text, sep=\"\\n\")\n",
    "    return text\n",
    "    \n",
    "genes_to_parse = read_txt_to_list(\"unique_significant_genes_for_AI.txt\")\n",
    "genes_to_parse = [x for x in genes_to_parse if x != \"\"]"
   ]
  },
  {
   "cell_type": "code",
   "execution_count": 82,
   "id": "6b448f45",
   "metadata": {},
   "outputs": [
    {
     "data": {
      "text/plain": [
       "193"
      ]
     },
     "execution_count": 82,
     "metadata": {},
     "output_type": "execute_result"
    }
   ],
   "source": [
    "len(genes_to_parse)"
   ]
  },
  {
   "cell_type": "markdown",
   "id": "749dc8be",
   "metadata": {},
   "source": [
    "#### Processing genes"
   ]
  },
  {
   "cell_type": "code",
   "execution_count": 94,
   "id": "bb273ee3",
   "metadata": {},
   "outputs": [],
   "source": [
    "# Requests to process\n",
    "requests_for_ai = []\n",
    "\n",
    "for gene in genes_to_parse:\n",
    "    \n",
    "    curr_dict = {\n",
    "    \"gene_symbol\":gene,\n",
    "    \"developer_instructions\":developer_instructions,\n",
    "    \"db_name\":\"gene_name_classification\",\n",
    "    \"db_table_name\":\"gene_name_gpt5\"\n",
    "    }\n",
    "\n",
    "    requests_for_ai.append(curr_dict)"
   ]
  },
  {
   "cell_type": "code",
   "execution_count": 95,
   "id": "67360139",
   "metadata": {},
   "outputs": [],
   "source": [
    "# Scan through gene symbols\n",
    "with Pool(9) as ppol:\n",
    "    processed_requests = ppol.map(classify_gene_symbol, requests_for_ai)"
   ]
  },
  {
   "cell_type": "code",
   "execution_count": 96,
   "id": "0eee5b5f",
   "metadata": {},
   "outputs": [],
   "source": [
    "processed_requests_merged = pd.DataFrame(processed_requests)"
   ]
  },
  {
   "cell_type": "code",
   "execution_count": 97,
   "id": "1e72161b",
   "metadata": {},
   "outputs": [
    {
     "data": {
      "text/plain": [
       "format_correctness\n",
       "CORRECT    193\n",
       "Name: count, dtype: int64"
      ]
     },
     "execution_count": 97,
     "metadata": {},
     "output_type": "execute_result"
    }
   ],
   "source": [
    "processed_requests_merged[\"format_correctness\"].value_counts()"
   ]
  },
  {
   "cell_type": "markdown",
   "id": "2b9ed49a",
   "metadata": {},
   "source": [
    "#### Output"
   ]
  },
  {
   "cell_type": "code",
   "execution_count": 99,
   "id": "b5bab4e9",
   "metadata": {},
   "outputs": [
    {
     "data": {
      "text/plain": [
       "Index(['gene_symbol', 'uuid_str', 'format_correctness', 'explanation',\n",
       "       'gene_class'],\n",
       "      dtype='object')"
      ]
     },
     "execution_count": 99,
     "metadata": {},
     "output_type": "execute_result"
    }
   ],
   "source": [
    "processed_requests_merged.columns"
   ]
  },
  {
   "cell_type": "code",
   "execution_count": 104,
   "id": "a4d62987",
   "metadata": {},
   "outputs": [],
   "source": [
    "# Printing \n",
    "import textwrap\n",
    "\n",
    "def wrap_text(text, width):\n",
    "    wrapped_lines = textwrap.wrap(text, width=width)\n",
    "    for line in wrapped_lines:\n",
    "        print(line)\n",
    "\n",
    "with open(\"gene_class_inspection.txt\", \"w\") as file:\n",
    "    for gene, explanation, gene_class in zip(processed_requests_merged[\"gene_symbol\"].tolist(), \n",
    "                                   processed_requests_merged[\"explanation\"].tolist(),\n",
    "                                   processed_requests_merged[\"gene_class\"].tolist()):\n",
    "\n",
    "        wrapped_text = textwrap.fill(explanation, width=70)\n",
    "        file.write(gene)\n",
    "        file.write(\"\\n\\n\")\n",
    "        file.write(gene_class)\n",
    "        file.write(\"\\n\\n\")\n",
    "        file.write(wrapped_text)\n",
    "        file.write(\"\\n\\n\\n\\n\")"
   ]
  },
  {
   "cell_type": "code",
   "execution_count": 105,
   "id": "630c42fe",
   "metadata": {},
   "outputs": [],
   "source": [
    "processed_requests_merged.to_csv(\"GPT_5_classified_symbols_init.csv\")"
   ]
  }
 ],
 "metadata": {
  "kernelspec": {
   "display_name": "torch-py39",
   "language": "python",
   "name": "python3"
  },
  "language_info": {
   "codemirror_mode": {
    "name": "ipython",
    "version": 3
   },
   "file_extension": ".py",
   "mimetype": "text/x-python",
   "name": "python",
   "nbconvert_exporter": "python",
   "pygments_lexer": "ipython3",
   "version": "3.9.19"
  }
 },
 "nbformat": 4,
 "nbformat_minor": 5
}
