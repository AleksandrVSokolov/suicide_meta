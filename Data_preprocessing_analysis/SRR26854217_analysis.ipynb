{
 "cells": [
  {
   "cell_type": "code",
   "execution_count": 1,
   "metadata": {},
   "outputs": [],
   "source": [
    "import os\n",
    "import time\n",
    "import sys\n",
    "import pandas as pd"
   ]
  },
  {
   "cell_type": "code",
   "execution_count": 2,
   "metadata": {},
   "outputs": [],
   "source": [
    "def read_file(file_path):\n",
    "\n",
    "    file_lines = []\n",
    "\n",
    "    with open(file_path, \"r\") as file:\n",
    "        for line in file:\n",
    "            file_lines.append(line.strip())\n",
    "\n",
    "    return file_lines\n",
    "\n",
    "def save_file(file_path, object):\n",
    "    with open(file_path, \"w\") as file:\n",
    "        for line in object:\n",
    "            file.write(line + \"\\n\")\n",
    "\n",
    "def list_files(directory):\n",
    "    paths = []\n",
    "    for root, dirs, files in os.walk(directory):\n",
    "        for file in files:\n",
    "            paths.append(os.path.join(root, file))\n",
    "    return paths"
   ]
  },
  {
   "cell_type": "code",
   "execution_count": 4,
   "metadata": {},
   "outputs": [],
   "source": [
    "STAR_dir = \"/home/aleksandr/Desktop/WORK/OLINK_suicide_PSY_project/Data_preprocessing_analysis/SRR26854217_STAR\"\n",
    "OUTPUT_dir = \"/home/aleksandr/Desktop/WORK/OLINK_suicide_PSY_project/Data_preprocessing_analysis/GSE247998_OUTPUT\"\n",
    "ID = \"SRR26854217\""
   ]
  },
  {
   "cell_type": "code",
   "execution_count": 5,
   "metadata": {},
   "outputs": [],
   "source": [
    "# move files to desired location\n",
    "STAR_files = list_files(STAR_dir)\n",
    "STAR_counts = [x for x in STAR_files if \"ReadsPerGene.out.tab\" in x]\n",
    "STAR_logs = [x for x in STAR_files if \"Log.final.out\" in x]\n",
    "\n",
    "logs_list = read_file(STAR_logs[0])\n",
    "counts_df = pd.read_csv(STAR_counts[0], sep=\"\\t\", header=None)\n",
    "counts_df.columns = [\"gene_ID\", \"Unstranded\", \"Strand_1\", \"Strand_2\"]\n",
    "\n",
    "log_path = os.path.join(OUTPUT_dir, ID + \"_star_logs.txt\")\n",
    "counts_path = os.path.join(OUTPUT_dir, ID + \"_star_counts.csv\")\n",
    "\n",
    "save_file(log_path, logs_list)\n",
    "counts_df.to_csv(counts_path)"
   ]
  }
 ],
 "metadata": {
  "kernelspec": {
   "display_name": "tf-py38",
   "language": "python",
   "name": "python3"
  },
  "language_info": {
   "codemirror_mode": {
    "name": "ipython",
    "version": 3
   },
   "file_extension": ".py",
   "mimetype": "text/x-python",
   "name": "python",
   "nbconvert_exporter": "python",
   "pygments_lexer": "ipython3",
   "version": "3.8.16"
  }
 },
 "nbformat": 4,
 "nbformat_minor": 2
}
